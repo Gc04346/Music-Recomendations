{
 "cells": [
  {
   "cell_type": "markdown",
   "metadata": {
    "colab_type": "text",
    "id": "axrSvsfFBN7y"
   },
   "source": [
    "### Importação das bibliotecas necessárias\n"
   ]
  },
  {
   "cell_type": "code",
   "execution_count": 0,
   "metadata": {
    "colab": {},
    "colab_type": "code",
    "id": "uyYvjedWq1nV"
   },
   "outputs": [],
   "source": [
    "import pandas as pd\n",
    "import numpy as np\n",
    "import matplotlib.pyplot as plt\n",
    "from matplotlib.pyplot import figure\n",
    "import seaborn as sns\n",
    "\n"
   ]
  },
  {
   "cell_type": "markdown",
   "metadata": {
    "colab_type": "text",
    "id": "l1fB3ByWBU-a"
   },
   "source": [
    "### Leitura dos arquivos"
   ]
  },
  {
   "cell_type": "code",
   "execution_count": 0,
   "metadata": {
    "colab": {},
    "colab_type": "code",
    "id": "pjWXhEEjr9o8"
   },
   "outputs": [],
   "source": [
    "hits = pd.read_csv('hits.csv')\n",
    "musics = pd.read_csv('music_data.csv')\n",
    "genre = pd.read_csv('genre.csv')\n"
   ]
  },
  {
   "cell_type": "markdown",
   "metadata": {
    "colab_type": "text",
    "id": "VNfKkiiQBpEI"
   },
   "source": [
    "O significado de cada coluna de cada arquivo está na descrição da prova> Indented block\n"
   ]
  },
  {
   "cell_type": "code",
   "execution_count": 0,
   "metadata": {
    "colab": {},
    "colab_type": "code",
    "id": "5JTkbAQrq1nc",
    "outputId": "7cbd3a89-2e4d-4d62-94b5-e678d4a04515"
   },
   "outputs": [
    {
     "data": {
      "text/plain": [
       "Index([u'uuid', u'music_id', u'genre_id', u'state', u'value'], dtype='object')"
      ]
     },
     "execution_count": 5,
     "metadata": {
      "tags": []
     },
     "output_type": "execute_result"
    }
   ],
   "source": [
    "hits.columns "
   ]
  },
  {
   "cell_type": "code",
   "execution_count": 0,
   "metadata": {
    "colab": {},
    "colab_type": "code",
    "id": "RHXEOeedq1ni",
    "outputId": "342a975e-95f5-4f86-b454-b9aa02db19b8"
   },
   "outputs": [
    {
     "data": {
      "text/plain": [
       "Index([u'music_id', u'id_artist', u'duration', u'plays', u'downloads'], dtype='object')"
      ]
     },
     "execution_count": 6,
     "metadata": {
      "tags": []
     },
     "output_type": "execute_result"
    }
   ],
   "source": [
    "musics.columns"
   ]
  },
  {
   "cell_type": "code",
   "execution_count": 0,
   "metadata": {
    "colab": {},
    "colab_type": "code",
    "id": "P0xDwxaOq1nm",
    "outputId": "cb0b0743-ee01-4d6b-cb11-3f551ffde4ef"
   },
   "outputs": [
    {
     "data": {
      "text/plain": [
       "Index([u'genre_id', u'genre'], dtype='object')"
      ]
     },
     "execution_count": 7,
     "metadata": {
      "tags": []
     },
     "output_type": "execute_result"
    }
   ],
   "source": [
    "genre.columns"
   ]
  },
  {
   "cell_type": "code",
   "execution_count": 0,
   "metadata": {
    "colab": {},
    "colab_type": "code",
    "id": "2Q0Acr9uq1np",
    "outputId": "da93358c-b57c-4bde-b2e4-90063e55dbce"
   },
   "outputs": [
    {
     "data": {
      "text/html": [
       "<div>\n",
       "<style scoped>\n",
       "    .dataframe tbody tr th:only-of-type {\n",
       "        vertical-align: middle;\n",
       "    }\n",
       "\n",
       "    .dataframe tbody tr th {\n",
       "        vertical-align: top;\n",
       "    }\n",
       "\n",
       "    .dataframe thead th {\n",
       "        text-align: right;\n",
       "    }\n",
       "</style>\n",
       "<table border=\"1\" class=\"dataframe\">\n",
       "  <thead>\n",
       "    <tr style=\"text-align: right;\">\n",
       "      <th></th>\n",
       "      <th>uuid</th>\n",
       "      <th>music_id</th>\n",
       "      <th>genre_id</th>\n",
       "      <th>state</th>\n",
       "      <th>value</th>\n",
       "    </tr>\n",
       "  </thead>\n",
       "  <tbody>\n",
       "    <tr>\n",
       "      <th>0</th>\n",
       "      <td>0</td>\n",
       "      <td>105301</td>\n",
       "      <td>138</td>\n",
       "      <td>17</td>\n",
       "      <td>69.0</td>\n",
       "    </tr>\n",
       "    <tr>\n",
       "      <th>1</th>\n",
       "      <td>0</td>\n",
       "      <td>159953</td>\n",
       "      <td>138</td>\n",
       "      <td>17</td>\n",
       "      <td>38.0</td>\n",
       "    </tr>\n",
       "    <tr>\n",
       "      <th>2</th>\n",
       "      <td>0</td>\n",
       "      <td>400886</td>\n",
       "      <td>138</td>\n",
       "      <td>17</td>\n",
       "      <td>55.0</td>\n",
       "    </tr>\n",
       "    <tr>\n",
       "      <th>3</th>\n",
       "      <td>0</td>\n",
       "      <td>591913</td>\n",
       "      <td>138</td>\n",
       "      <td>17</td>\n",
       "      <td>101.0</td>\n",
       "    </tr>\n",
       "    <tr>\n",
       "      <th>4</th>\n",
       "      <td>0</td>\n",
       "      <td>617394</td>\n",
       "      <td>25</td>\n",
       "      <td>17</td>\n",
       "      <td>51.0</td>\n",
       "    </tr>\n",
       "  </tbody>\n",
       "</table>\n",
       "</div>"
      ],
      "text/plain": [
       "   uuid  music_id  genre_id  state  value\n",
       "0     0    105301       138     17   69.0\n",
       "1     0    159953       138     17   38.0\n",
       "2     0    400886       138     17   55.0\n",
       "3     0    591913       138     17  101.0\n",
       "4     0    617394        25     17   51.0"
      ]
     },
     "execution_count": 8,
     "metadata": {
      "tags": []
     },
     "output_type": "execute_result"
    }
   ],
   "source": [
    "hits.head(5)"
   ]
  },
  {
   "cell_type": "markdown",
   "metadata": {
    "colab_type": "text",
    "id": "QJGgO0d6Bs7x"
   },
   "source": [
    "Merge dos dados de músicas ouvidas com os dados de gênero, assim o dataframe `df` passa a ter a informação do gênero da música"
   ]
  },
  {
   "cell_type": "code",
   "execution_count": 0,
   "metadata": {
    "colab": {},
    "colab_type": "code",
    "id": "4SwamQzlq1nt"
   },
   "outputs": [],
   "source": [
    "df = hits.merge(genre, on='genre_id')"
   ]
  },
  {
   "cell_type": "code",
   "execution_count": 0,
   "metadata": {
    "colab": {},
    "colab_type": "code",
    "id": "OA20NCzjq1nw",
    "outputId": "311ea22d-282e-4781-c026-c69f00191bf6"
   },
   "outputs": [
    {
     "data": {
      "text/html": [
       "<div>\n",
       "<style scoped>\n",
       "    .dataframe tbody tr th:only-of-type {\n",
       "        vertical-align: middle;\n",
       "    }\n",
       "\n",
       "    .dataframe tbody tr th {\n",
       "        vertical-align: top;\n",
       "    }\n",
       "\n",
       "    .dataframe thead th {\n",
       "        text-align: right;\n",
       "    }\n",
       "</style>\n",
       "<table border=\"1\" class=\"dataframe\">\n",
       "  <thead>\n",
       "    <tr style=\"text-align: right;\">\n",
       "      <th></th>\n",
       "      <th>uuid</th>\n",
       "      <th>music_id</th>\n",
       "      <th>genre_id</th>\n",
       "      <th>state</th>\n",
       "      <th>value</th>\n",
       "      <th>genre</th>\n",
       "    </tr>\n",
       "  </thead>\n",
       "  <tbody>\n",
       "    <tr>\n",
       "      <th>0</th>\n",
       "      <td>0</td>\n",
       "      <td>105301</td>\n",
       "      <td>138</td>\n",
       "      <td>17</td>\n",
       "      <td>69.0</td>\n",
       "      <td>gospel</td>\n",
       "    </tr>\n",
       "    <tr>\n",
       "      <th>1</th>\n",
       "      <td>0</td>\n",
       "      <td>159953</td>\n",
       "      <td>138</td>\n",
       "      <td>17</td>\n",
       "      <td>38.0</td>\n",
       "      <td>gospel</td>\n",
       "    </tr>\n",
       "    <tr>\n",
       "      <th>2</th>\n",
       "      <td>0</td>\n",
       "      <td>400886</td>\n",
       "      <td>138</td>\n",
       "      <td>17</td>\n",
       "      <td>55.0</td>\n",
       "      <td>gospel</td>\n",
       "    </tr>\n",
       "    <tr>\n",
       "      <th>3</th>\n",
       "      <td>0</td>\n",
       "      <td>591913</td>\n",
       "      <td>138</td>\n",
       "      <td>17</td>\n",
       "      <td>101.0</td>\n",
       "      <td>gospel</td>\n",
       "    </tr>\n",
       "    <tr>\n",
       "      <th>4</th>\n",
       "      <td>0</td>\n",
       "      <td>1210022</td>\n",
       "      <td>138</td>\n",
       "      <td>17</td>\n",
       "      <td>51.0</td>\n",
       "      <td>gospel</td>\n",
       "    </tr>\n",
       "  </tbody>\n",
       "</table>\n",
       "</div>"
      ],
      "text/plain": [
       "   uuid  music_id  genre_id  state  value   genre\n",
       "0     0    105301       138     17   69.0  gospel\n",
       "1     0    159953       138     17   38.0  gospel\n",
       "2     0    400886       138     17   55.0  gospel\n",
       "3     0    591913       138     17  101.0  gospel\n",
       "4     0   1210022       138     17   51.0  gospel"
      ]
     },
     "execution_count": 10,
     "metadata": {
      "tags": []
     },
     "output_type": "execute_result"
    }
   ],
   "source": [
    "df.head()"
   ]
  },
  {
   "cell_type": "markdown",
   "metadata": {},
   "source": [
    "Agrupamento a partir do genero, contantdo o numero de vezes que aquele genero foi escutado"
   ]
  },
  {
   "cell_type": "code",
   "execution_count": 0,
   "metadata": {
    "colab": {},
    "colab_type": "code",
    "id": "iBUTJZm3q1nz",
    "outputId": "b3015f63-f466-41f0-e609-54a0874f3590"
   },
   "outputs": [
    {
     "data": {
      "text/plain": [
       "genre\n",
       "forro                      502057\n",
       "sertanejo                  402275\n",
       "hip-hop-rap                162067\n",
       "funk                       148189\n",
       "arrocha                     95082\n",
       "brega-funk                  94324\n",
       "gospel                      89459\n",
       "brega                       67663\n",
       "romantico                   57182\n",
       "axe                         28194\n",
       "reggae                      22167\n",
       "pagode                      16250\n",
       "samba                       12039\n",
       "pop                         11126\n",
       "regional                    11019\n",
       "catolica                     7769\n",
       "eletronica                   6865\n",
       "mpb                          6284\n",
       "bregadeira                   6229\n",
       "rock                         5821\n",
       "jingles-spots                5553\n",
       "swingueira                   3399\n",
       "pop-rock                     2840\n",
       "indie                        2454\n",
       "reggaeton                    1527\n",
       "country                      1460\n",
       "world-music                  1148\n",
       "reb                          1100\n",
       "house                        1025\n",
       "parodiacomedia               1015\n",
       "                            ...  \n",
       "tecnobrega                    900\n",
       "blues                         822\n",
       "instrumental                  454\n",
       "black-music                   437\n",
       "trance                        391\n",
       "locutores                     260\n",
       "soul                          256\n",
       "punk-rock                     250\n",
       "heavy-metal                   175\n",
       "bossa-nova                    169\n",
       "gotico                        140\n",
       "surf-music                    136\n",
       "hardcore                      129\n",
       "experimental                  123\n",
       "instrumental-brasileiro       107\n",
       "death-metal                   103\n",
       "samba-rock                     93\n",
       "hard-rock                      91\n",
       "choro                          78\n",
       "rock-progressivo               69\n",
       "erudito                        62\n",
       "grunge                         50\n",
       "jazz                           44\n",
       "new-metal                      43\n",
       "emocore                        43\n",
       "metal-melodico                 40\n",
       "guitar                         37\n",
       "thrash-metal                   27\n",
       "industrial                     22\n",
       "new-age                         9\n",
       "Name: uuid, Length: 63, dtype: int64"
      ]
     },
     "execution_count": 11,
     "metadata": {
      "tags": []
     },
     "output_type": "execute_result"
    }
   ],
   "source": [
    "df.groupby(by=\"genre\")[\"user_id\"].count().sort_values(ascending=False)"
   ]
  },
  {
   "cell_type": "markdown",
   "metadata": {},
   "source": [
    "Agrupamento por usuários, somando o total de segundos esctudado por aquele usuário"
   ]
  },
  {
   "cell_type": "code",
   "execution_count": 0,
   "metadata": {
    "colab": {},
    "colab_type": "code",
    "id": "pOQx3LnVq1n3",
    "outputId": "92cf66c6-0137-4de5-dc3b-1a1d38d6c50e"
   },
   "outputs": [
    {
     "data": {
      "text/plain": [
       "uuid\n",
       "16642    14242.0\n",
       "17232    14240.0\n",
       "7590     14237.0\n",
       "3312     14234.0\n",
       "15735    14234.0\n",
       "5506     14232.0\n",
       "8589     14232.0\n",
       "25365    14232.0\n",
       "16387    14231.0\n",
       "9778     14230.0\n",
       "3796     14230.0\n",
       "25218    14227.0\n",
       "27926    14223.0\n",
       "10275    14222.0\n",
       "22991    14220.0\n",
       "28712    14219.0\n",
       "17853    14218.0\n",
       "11088    14216.0\n",
       "28210    14215.0\n",
       "26340    14215.0\n",
       "22236    14215.0\n",
       "26391    14214.0\n",
       "9592     14213.0\n",
       "8856     14211.0\n",
       "1456     14210.0\n",
       "29676    14209.0\n",
       "4486     14209.0\n",
       "23291    14208.0\n",
       "2124     14207.0\n",
       "6363     14206.0\n",
       "          ...   \n",
       "26557      298.0\n",
       "176        283.0\n",
       "19940      273.0\n",
       "9639       250.0\n",
       "22552      243.0\n",
       "13223      239.0\n",
       "26181      237.0\n",
       "478        221.0\n",
       "21848      219.0\n",
       "5026       213.0\n",
       "15021      202.0\n",
       "20294      194.0\n",
       "23633      163.0\n",
       "2674       129.0\n",
       "21104      127.0\n",
       "23040      120.0\n",
       "7471       113.0\n",
       "9180       103.0\n",
       "19502       95.0\n",
       "22185       92.0\n",
       "9589        89.0\n",
       "12928       83.0\n",
       "29508       78.0\n",
       "18204       77.0\n",
       "29219       70.0\n",
       "6570        62.0\n",
       "5965        56.0\n",
       "10483       55.0\n",
       "17498       54.0\n",
       "11642       35.0\n",
       "Name: value, Length: 27671, dtype: float64"
      ]
     },
     "execution_count": 12,
     "metadata": {
      "tags": []
     },
     "output_type": "execute_result"
    }
   ],
   "source": [
    "df.groupby(by=\"user_id\")[\"value\"].sum().sort_values(ascending=False)"
   ]
  },
  {
   "cell_type": "markdown",
   "metadata": {},
   "source": [
    "Media de tempo ouvida pelos usuários em horas"
   ]
  },
  {
   "cell_type": "code",
   "execution_count": 0,
   "metadata": {
    "colab": {},
    "colab_type": "code",
    "id": "hY5Qls1Uq1n7",
    "outputId": "ed39411c-2d00-439f-b788-401e4d0b8602"
   },
   "outputs": [
    {
     "data": {
      "text/plain": [
       "3.335235625745365"
      ]
     },
     "execution_count": 13,
     "metadata": {
      "tags": []
     },
     "output_type": "execute_result"
    }
   ],
   "source": [
    "df.groupby(by=\"user_id\")[\"value\"].sum().mean()/3600"
   ]
  },
  {
   "cell_type": "markdown",
   "metadata": {},
   "source": [
    "Grafico simples que mostra a quantas vezes aquele genero foi escutado pelos usuarios "
   ]
  },
  {
   "cell_type": "code",
   "execution_count": 0,
   "metadata": {
    "colab": {},
    "colab_type": "code",
    "id": "3AODMW9uq1n_",
    "outputId": "ed0c0a3b-06bf-4ac8-cd2c-ccbcc04ac306"
   },
   "outputs": [
    {
     "data": {
      "text/plain": [
       "<Figure size 3240x2160 with 0 Axes>"
      ]
     },
     "metadata": {
      "tags": []
     },
     "output_type": "display_data"
    },
    {
     "data": {
      "image/png": "[encoded data removed]",
      "text/plain": [
       "<Figure size 432x288 with 1 Axes>"
      ]
     },
     "metadata": {
      "needs_background": "light",
      "tags": []
     },
     "output_type": "display_data"
    }
   ],
   "source": [
    "figure( figsize=(18, 12), dpi=180, facecolor='w', edgecolor='k')\n",
    "\n",
    "plt.figure()\n",
    "df.groupby(by=\"genre\")[\"user_id\"].count().sort_values(ascending=False).plot(kind='bar')\n",
    "plt.show()"
   ]
  },
  {
   "cell_type": "markdown",
   "metadata": {},
   "source": [
    "tempo que usuario menos ouviu no dataset"
   ]
  },
  {
   "cell_type": "code",
   "execution_count": 0,
   "metadata": {
    "colab": {},
    "colab_type": "code",
    "id": "yiIBRpTTq1oI",
    "outputId": "78e91713-1cba-4ff8-905e-8e6bf46b072e"
   },
   "outputs": [
    {
     "data": {
      "text/plain": [
       "35.0"
      ]
     },
     "execution_count": 16,
     "metadata": {
      "tags": []
     },
     "output_type": "execute_result"
    }
   ],
   "source": [
    "df.groupby(by=\"user_id\")[\"value\"].sum().sort_values(ascending=False).min()"
   ]
  },
  {
   "cell_type": "markdown",
   "metadata": {},
   "source": [
    "tempo do usuario que mais ouviu "
   ]
  },
  {
   "cell_type": "code",
   "execution_count": 0,
   "metadata": {
    "colab": {},
    "colab_type": "code",
    "id": "fOVNhB0jq1oO",
    "outputId": "9a6ec2dd-0d22-4143-fd18-5e22bfc83704"
   },
   "outputs": [
    {
     "data": {
      "text/plain": [
       "14242.0"
      ]
     },
     "execution_count": 17,
     "metadata": {
      "tags": []
     },
     "output_type": "execute_result"
    }
   ],
   "source": [
    "df.groupby(by=\"user_id\")[\"value\"].sum().sort_values(ascending=False).max()"
   ]
  },
  {
   "cell_type": "code",
   "execution_count": 0,
   "metadata": {
    "colab": {},
    "colab_type": "code",
    "id": "TQHOeSvsAOl9"
   },
   "outputs": [],
   "source": []
  }
 ],
 "metadata": {
  "colab": {
   "collapsed_sections": [],
   "name": "data_study.ipynb",
   "provenance": [],
   "version": "0.3.2"
  },
  "kernelspec": {
   "display_name": "Python 3",
   "language": "python",
   "name": "python3"
  },
  "language_info": {
   "codemirror_mode": {
    "name": "ipython",
    "version": 3
   },
   "file_extension": ".py",
   "mimetype": "text/x-python",
   "name": "python",
   "nbconvert_exporter": "python",
   "pygments_lexer": "ipython3",
   "version": "3.7.3"
  }
 },
 "nbformat": 4,
 "nbformat_minor": 1
}
