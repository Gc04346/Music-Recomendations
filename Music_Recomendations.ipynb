{
 "cells": [
  {
   "cell_type": "markdown",
   "metadata": {},
   "source": [
    "## Importação das Bibliotecas necessárias\n",
    "A biblioteca copy foi usada para realizar uma cópia de valores ao longo do algoritmo de pré-processamento"
   ]
  },
  {
   "cell_type": "code",
   "execution_count": null,
   "metadata": {},
   "outputs": [],
   "source": [
    "import pandas as pd\n",
    "import numpy as np\n",
    "import operator\n",
    "from copy import deepcopy"
   ]
  },
  {
   "cell_type": "markdown",
   "metadata": {},
   "source": [
    "## Leitura dos Arquivos"
   ]
  },
  {
   "cell_type": "code",
   "execution_count": null,
   "metadata": {},
   "outputs": [],
   "source": [
    "music_data = pd.read_csv(\"music_data.csv\")\n",
    "hits = pd.read_csv(\"hits.csv\")\n",
    "target = pd.read_csv(\"target.csv\")"
   ]
  },
  {
   "cell_type": "markdown",
   "metadata": {},
   "source": [
    "## Inicialização das variáveis de controle\n",
    "Estas variáveis serão usadas ao longo do código para facilitar a legibilidade"
   ]
  },
  {
   "cell_type": "code",
   "execution_count": null,
   "metadata": {},
   "outputs": [],
   "source": [
    "music_id = 0\n",
    "music = 1\n",
    "music_value = 4\n",
    "usr_id = 0\n",
    "usr_musics = 1\n",
    "topHits = 100  # decidi por utilizar 100 top hits para a recomendação\n",
    "numUsers = len(hits.groupby(['user_id']).count())-1"
   ]
  },
  {
   "cell_type": "markdown",
   "metadata": {},
   "source": [
    "# Algoritmo de Pré-Processamento"
   ]
  },
  {
   "cell_type": "markdown",
   "metadata": {},
   "source": [
    "É necessário um algoritmo de pré processamento para deixar os dados do jeito correto estabelecido para o funcionamento do algoritmo.\n",
    "Decidi usar a seguinte abordagem: Terei uma matriz com todos os usuários. Cada usuário será uma linha da matriz. Esta matriz (chamada users) tem duas colunas: a primeira para o id do usuário naquela linha, e a segunda que é outra matriz (chamada listaMusicas). Esta contém, na primeira coluna, os 100 hits mais tocados, e na segunda coluna, o quanto aquele determinado usuário ouviu àquela música.\n",
    "O algoritmo de pré-processamento não se preocupa com o caso de usuários novos que ainda não ouviram a nenhuma música, pois o objetivo era recomendar apenas para usuários target já pré-definidos que já haviam ouvido alguma música.\n"
   ]
  },
  {
   "cell_type": "markdown",
   "metadata": {},
   "source": [
    "## Inicialização das matrizes usadas pelo algoritmo de pré-processamento"
   ]
  },
  {
   "cell_type": "code",
   "execution_count": null,
   "metadata": {},
   "outputs": [],
   "source": [
    "musics = [[]for i in range(topHits)]\n",
    "# modelo do vetor user = [0,[[105301,69],[51,0],...]]\n",
    "users = [[]for i in range(numUsers)]\n",
    "\n",
    "# pegando as top 100 musicas, baseado em numero de plays\n",
    "music_data.sort_values(['plays'], ascending=False, inplace=True)\n",
    "top_musics = np.array(music_data['music_id'][:topHits])\n",
    "\n",
    "# fazendo o vetor base de musicas com todos os valores 0\n",
    "for i in range(len(top_musics)):\n",
    "    musics[i].append(top_musics[i])\n",
    "    musics[i].append(0)"
   ]
  },
  {
   "cell_type": "markdown",
   "metadata": {},
   "source": [
    "## Atribuição dos valores ouvidos de cada top_hit por cada usuário\n",
    "A matriz de cada usuário possui vários valores 0, pois dificilmente um usuário terá escutado todas as músicas do top 100. Como o vetor base deixa como padrão o valor 0 para todas as músicas, a parte abaixo é encarregada de sobrescrever estes valores 0 nas músicas que o usuário já ouviu, com o valor correto, e fazer isto para todos os usuários da base de dados."
   ]
  },
  {
   "cell_type": "code",
   "execution_count": null,
   "metadata": {},
   "outputs": [],
   "source": [
    "linha = 0\n",
    "for j in range(numUsers):\n",
    "    users[j] = [hits.iloc[linha, usr_id], musics]  # users[j] = [user_id, vetor base com os top 100 hits]\n",
    "    if linha < len(hits):  # if usado para garantir que na última iteração não ocorra um index out of bounds\n",
    "        #resetando listaMusicas para que cada usuário tenha um vetor limpo inicialmente:\n",
    "        listaMusicas = deepcopy(musics)  # deepcopy para que apenas os valores de musics sejam transferidos para listaMusicas. Particularidade da linguagem Python.\n",
    "        while hits.iloc[linha, usr_id] == j:  # hits tem várias linhas de informação para cada usuário. Enquanto eu estiver no mesmo usuário faça:\n",
    "            musica = hits.iloc[linha, music]\n",
    "            for i in range(len(top_musics)):\n",
    "                if users[j][usr_musics][i][music_id] == musica:  # se a musica atual em hits existir no vetor do usuario(tambem vale: se estiver no top 100)\n",
    "                    listaMusicas[i][music] = hits.iloc[linha][music_value]\n",
    "            linha += 1\n",
    "        users[j] = [hits.iloc[linha, usr_id], listaMusicas]  # atribui listaMusicas com os valores atualizados daquele usuário à sua matriz"
   ]
  },
  {
   "cell_type": "markdown",
   "metadata": {},
   "source": [
    "# Algoritmo K-Nearest\n",
    "Decidi por utilizar um algoritmo do tipo KNN para definir as recomendações. Utilizei uma função para calcular as distâncias euclidianas entre os vetores. Ordenei estas distâncias, separei usuários parecidos de acordo com o valor de k e, em um vetor (chamado vetComb) somei todos os valores de todos os top 100 hits destes usuários (inclusive os coincidentes, uma vez que se uma música foi MUITO ouvida por usuários parecidos com o target, esta provavelmente é uma boa recomendação). Então, ordenei de forma decrescente este vetComb (o nome vem de \"vetor combinação\") de forma que, nas primeiras n posições eu tivesse as n melhores recomendações. O retorno final da função é justamente este vetor, fatiado para conter apenas os id's das músicas recomendadas, excluíndo o valor da distância vetorial calculada, já que este valor passou a ser irrelevante."
   ]
  },
  {
   "cell_type": "markdown",
   "metadata": {},
   "source": [
    "## Função para calcular a distância\n",
    "Faz uso da biblioteca numpy como np para calcular a disância euclidiana entre o user target e um vetor de usuário qualquer da base de dados."
   ]
  },
  {
   "cell_type": "code",
   "execution_count": null,
   "metadata": {},
   "outputs": [],
   "source": [
    "def distance(user_target, one_user, length):\n",
    "    dist = 0\n",
    "    for i in range(length):\n",
    "        dist += np.square(user_target[1][i][1] - one_user[1][i][1])\n",
    "    return np.sqrt(dist)"
   ]
  },
  {
   "cell_type": "markdown",
   "metadata": {},
   "source": [
    "## Função K-nearest"
   ]
  },
  {
   "cell_type": "markdown",
   "metadata": {},
   "source": [
    "### Pseudo-código do trecho do algoritmo knn:\n",
    "    calcular distâncias euclidianas e guarda em um vetor distances\n",
    "    ordenar distances\n",
    "    vetor combinado = musics, para que seja uma matriz com os top hits e valor base 0 que será alterado à medida que encontrar valores para aquela música\n",
    "    para cada usuario dentro de k em sortedDistances\n",
    "        pega o user correspondente no vetor users\n",
    "            para cada musica que a pessoa escutou\n",
    "                soma o valor dessa musica na posicao dela no vetor combinado\n",
    "    # vetor combinado = [[music_id1,music_value1],[music_id2,music_value2],[music_id3,music_value3]...]\n",
    "    # recomendacoes = vetor combinado - user_target => farei isso com um for:\n",
    "    recomendacoes = [[]for i in range(vetComb)]\n",
    "    for i in range(len(vetor combinado))   \n",
    "        recomendacoes[i].append(vetComb[i][0])\n",
    "        #a linha abaixo significa: vetComb.music_value[1] - user.music_value[1]...\n",
    "        recomendacoes[i].append(vetor combinado[i][1] - user_target[1][i][1])\n",
    "    ordenar o vetor recomendacoes em ordem decrescente pelas valores das musicas\n",
    "    # porque se o usr_target escutou uma musica 0 tempo e os parecidos com ele escutaram 10000000 tempo (por exemplo),\n",
    "    # essa recomendacao tem que estar lá no topo.\n",
    "    retorna recomendacoes\n",
    "    #na funcao get_recomendations, eu fatiarei o vetor recomendacoes no numero n de recomendacoes que for passado passado como parametro"
   ]
  },
  {
   "cell_type": "code",
   "execution_count": null,
   "metadata": {},
   "outputs": [],
   "source": [
    "def knearest(all_users, user_target, k):\n",
    "    distances = {}\n",
    "    length = len(user_target[1])  # user_target[1] se refere à segunda coluna de user, que contém os top hits\n",
    "\n",
    "    for i in range(len(all_users)):\n",
    "        dist = distance(user_target, all_users[i], length)\n",
    "        distances[i] = dist\n",
    "\n",
    "    # sortedDistances tem, de forma ordenada crescente, os usuarios com o gosto mais parecido com o que eu passei.\n",
    "    # na posicao 0 eu tenho o usuario mais parecido com o que eu passei.\n",
    "    sortedDistances = sorted(distances.items(), key=operator.itemgetter(1))\n",
    "\n",
    "    usuariosParecidos = [[]for i in range(k)]\n",
    "\n",
    "    for i in range(k):\n",
    "        usuariosParecidos[i] += sortedDistances[i]\n",
    "    # aqui, em usuariosParecidos, eu tenho o id dos usuarios mais parecidos e a distancia vetorial entre cada um deles e user target\n",
    "\n",
    "    vetComb = musics\n",
    "\n",
    "    for i in range(len(usuariosParecidos)):\n",
    "        usrTemp = users[usuariosParecidos[i][usr_id]]\n",
    "        for ind in range(len(usrTemp[usr_musics])): # quantidade de musicas que tem no top do usrTemp\n",
    "            vetComb[ind][1] += usrTemp[usr_musics][ind][music_value]\n",
    "\n",
    "    recomendacoes = [[]for i in range(len(vetComb))]\n",
    "\n",
    "    for i in range(len(vetComb)):\n",
    "        recomendacoes[i].append(vetComb[i][0])  # recomendacoes[i][0] tem o id da musica\n",
    "        recomendacoes[i].append(vetComb[i][1] - user_target[1][i][1])  # recomendacoes[i][1] tem o valor subtraido do quanto os usuarios parecidos escutaram aquela musica com o quanto o user_target a ouviu\n",
    "\n",
    "    sortedRecomendacoes = sorted(recomendacoes, key=operator.itemgetter(1), reverse=True)\n",
    "    finalRecomendations = []\n",
    "\n",
    "    for i in range(len(sortedRecomendacoes)):\n",
    "        finalRecomendations.append(sortedRecomendacoes[i][0])\n",
    "\n",
    "    return finalRecomendations"
   ]
  },
  {
   "cell_type": "markdown",
   "metadata": {},
   "source": [
    "## getRecommendations\n",
    "A função getRecommendations tem a responsabilidade de definir os usuários target a partir da tabela \"target.csv\" e passá-los, um a um, para a função knearest, e por último, inserir cada resposta de recomendação em um dict que será retornado"
   ]
  },
  {
   "cell_type": "code",
   "execution_count": 1,
   "metadata": {},
   "outputs": [],
   "source": [
    "def getRecommendations(n):\n",
    "    user_target = users[0]\n",
    "    recommended = knearest(users, user_target, 5)[:n]\n",
    "\n",
    "    recommendations = {\n",
    "        \"user_id\": user_target[0],\n",
    "        \"recommendations\": recommended\n",
    "    }\n",
    "\n",
    "    return recommendations"
   ]
  }
 ],
 "metadata": {
  "kernelspec": {
   "display_name": "Python 3",
   "language": "python",
   "name": "python3"
  },
  "language_info": {
   "codemirror_mode": {
    "name": "ipython",
    "version": 3
   },
   "file_extension": ".py",
   "mimetype": "text/x-python",
   "name": "python",
   "nbconvert_exporter": "python",
   "pygments_lexer": "ipython3",
   "version": "3.7.3"
  }
 },
 "nbformat": 4,
 "nbformat_minor": 2
}
