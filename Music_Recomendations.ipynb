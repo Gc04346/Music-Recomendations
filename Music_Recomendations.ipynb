{
 "cells": [
  {
   "cell_type": "markdown",
   "metadata": {},
   "source": [
    "## Importação das Bibliotecas necessárias\n",
    "A biblioteca copy foi usada para realizar uma cópia de valores ao longo do algoritmo de pré-processamento"
   ]
  },
  {
   "cell_type": "code",
   "execution_count": 40,
   "metadata": {},
   "outputs": [],
   "source": [
    "import pandas as pd\n",
    "import matplotlib.pyplot as plt\n",
    "from matplotlib.pyplot import figure\n",
    "import numpy as np\n",
    "import operator\n",
    "from copy import deepcopy"
   ]
  },
  {
   "cell_type": "markdown",
   "metadata": {},
   "source": [
    "## Leitura dos Arquivos"
   ]
  },
  {
   "cell_type": "code",
   "execution_count": null,
   "metadata": {},
   "outputs": [],
   "source": [
    "music_data = pd.read_csv(\"music_data.csv\")\n",
    "hits = pd.read_csv(\"hits.csv\")\n",
    "target = pd.read_csv(\"target.csv\")\n",
    "genre = pd.read_csv(\"genre.csv\")\n",
    "state = pd.read_csv(\"state.csv\")"
   ]
  },
  {
   "cell_type": "markdown",
   "metadata": {},
   "source": [
    "## Inicialização das variáveis de controle\n",
    "Estas variáveis serão usadas ao longo do código para facilitar a legibilidade"
   ]
  },
  {
   "cell_type": "code",
   "execution_count": null,
   "metadata": {},
   "outputs": [],
   "source": [
    "music_id = 0\n",
    "music = 1\n",
    "music_value = 4\n",
    "usr_id = 0\n",
    "usr_musics = 1\n",
    "topHits = 100  # decidi por utilizar 100 top hits para a recomendação\n",
    "numUsers = len(hits.groupby(['user_id']).count())-1"
   ]
  },
  {
   "cell_type": "markdown",
   "metadata": {},
   "source": [
    "# Algoritmo de Pré-Processamento"
   ]
  },
  {
   "cell_type": "markdown",
   "metadata": {},
   "source": [
    "É necessário um algoritmo de pré processamento para deixar os dados do jeito correto estabelecido para o funcionamento do algoritmo.\n",
    "Decidi usar a seguinte abordagem: Terei uma matriz com todos os usuários. Cada usuário será uma linha da matriz. Esta matriz (chamada users) tem duas colunas: a primeira para o id do usuário naquela linha, e a segunda que é outra matriz (chamada listaMusicas). Esta contém, na primeira coluna, os 100 hits mais tocados, e na segunda coluna, o quanto aquele determinado usuário ouviu àquela música.\n",
    "O algoritmo de pré-processamento não se preocupa com o caso de usuários novos que ainda não ouviram a nenhuma música, pois o objetivo era recomendar apenas para usuários target já pré-definidos que já haviam ouvido alguma música.\n"
   ]
  },
  {
   "cell_type": "markdown",
   "metadata": {},
   "source": [
    "## Inicialização das matrizes usadas pelo algoritmo de pré-processamento"
   ]
  },
  {
   "cell_type": "code",
   "execution_count": null,
   "metadata": {},
   "outputs": [],
   "source": [
    "musics = [[]for i in range(topHits)]\n",
    "# modelo do vetor user = [0,[[105301,69],[51,0],...]]\n",
    "users = [[]for i in range(numUsers)]\n",
    "\n",
    "# pegando as top 100 musicas, baseado em numero de plays\n",
    "music_data.sort_values(['plays'], ascending=False, inplace=True)\n",
    "top_musics = np.array(music_data['music_id'][:topHits])\n",
    "\n",
    "# fazendo o vetor base de musicas com todos os valores 0\n",
    "for i in range(len(top_musics)):\n",
    "    musics[i].append(top_musics[i])\n",
    "    musics[i].append(0)"
   ]
  },
  {
   "cell_type": "markdown",
   "metadata": {},
   "source": [
    "## Atribuição dos valores ouvidos de cada top_hit por cada usuário\n",
    "A matriz de cada usuário possui vários valores 0, pois dificilmente um usuário terá escutado todas as músicas do top 100. Como o vetor base deixa como padrão o valor 0 para todas as músicas, a parte abaixo é encarregada de sobrescrever estes valores 0 nas músicas que o usuário já ouviu, com o valor correto, e fazer isto para todos os usuários da base de dados."
   ]
  },
  {
   "cell_type": "code",
   "execution_count": null,
   "metadata": {},
   "outputs": [],
   "source": [
    "linha = 0\n",
    "for j in range(numUsers):\n",
    "    users[j] = [hits.iloc[linha, usr_id], musics]  # users[j] = [user_id, vetor base com os top 100 hits]\n",
    "    if linha < len(hits):  # if usado para garantir que na última iteração não ocorra um index out of bounds\n",
    "        #resetando listaMusicas para que cada usuário tenha um vetor limpo inicialmente:\n",
    "        listaMusicas = deepcopy(musics)  # deepcopy para que apenas os valores de musics sejam transferidos para listaMusicas. Particularidade da linguagem Python.\n",
    "        while hits.iloc[linha, usr_id] == j:  # hits tem várias linhas de informação para cada usuário. Enquanto eu estiver no mesmo usuário faça:\n",
    "            musica = hits.iloc[linha, music]\n",
    "            for i in range(len(top_musics)):\n",
    "                if users[j][usr_musics][i][music_id] == musica:  # se a musica atual em hits existir no vetor do usuario(tambem vale: se estiver no top 100)\n",
    "                    listaMusicas[i][music] = hits.iloc[linha][music_value]\n",
    "            linha += 1\n",
    "        users[j] = [hits.iloc[linha, usr_id], listaMusicas]  # atribui listaMusicas com os valores atualizados daquele usuário à sua matriz"
   ]
  },
  {
   "cell_type": "markdown",
   "metadata": {},
   "source": [
    "# Algoritmo K-Nearest\n",
    "Decidi por utilizar um algoritmo do tipo KNN para definir as recomendações. Utilizei uma função para calcular as distâncias euclidianas entre os vetores. Ordenei estas distâncias, separei usuários parecidos de acordo com o valor de k e, em um vetor (chamado vetComb) somei todos os valores de todos os top 100 hits destes usuários (inclusive os coincidentes, uma vez que se uma música foi MUITO ouvida por usuários parecidos com o target, esta provavelmente é uma boa recomendação). Então, ordenei de forma decrescente este vetComb (o nome vem de \"vetor combinação\") de forma que, nas primeiras n posições eu tivesse as n melhores recomendações. O retorno final da função é justamente este vetor, fatiado para conter apenas os id's das músicas recomendadas, excluíndo o valor da distância vetorial calculada, já que este valor passou a ser irrelevante."
   ]
  },
  {
   "cell_type": "markdown",
   "metadata": {},
   "source": [
    "## Função para calcular a distância\n",
    "Faz uso da biblioteca numpy como np para calcular a disância euclidiana entre o user target e um vetor de usuário qualquer da base de dados."
   ]
  },
  {
   "cell_type": "code",
   "execution_count": null,
   "metadata": {},
   "outputs": [],
   "source": [
    "def distance(user_target, one_user, length):\n",
    "    dist = 0\n",
    "    for i in range(length):\n",
    "        dist += np.square(user_target[1][i][1] - one_user[1][i][1])\n",
    "    return np.sqrt(dist)"
   ]
  },
  {
   "cell_type": "markdown",
   "metadata": {},
   "source": [
    "## Função K-nearest"
   ]
  },
  {
   "cell_type": "markdown",
   "metadata": {},
   "source": [
    "### Pseudo-código do trecho do algoritmo knn:\n",
    "    calcular distâncias euclidianas e guarda em um vetor distances\n",
    "    ordenar distances\n",
    "    vetor combinado = musics, para que seja uma matriz com os top hits e valor base 0 que será alterado à medida que encontrar valores para aquela música\n",
    "    para cada usuario dentro de k em sortedDistances\n",
    "        pega o user correspondente no vetor users\n",
    "            para cada musica que a pessoa escutou\n",
    "                soma o valor dessa musica na posicao dela no vetor combinado\n",
    "    # vetor combinado = [[music_id1,music_value1],[music_id2,music_value2],[music_id3,music_value3]...]\n",
    "    # recomendacoes = vetor combinado - user_target => farei isso com um for:\n",
    "    recomendacoes = [[]for i in range(vetComb)]\n",
    "    for i in range(len(vetor combinado))   \n",
    "        recomendacoes[i].append(vetComb[i][0])\n",
    "        #a linha abaixo significa: vetComb.music_value[1] - user.music_value[1]...\n",
    "        recomendacoes[i].append(vetor combinado[i][1] - user_target[1][i][1])\n",
    "    ordenar o vetor recomendacoes em ordem decrescente pelas valores das musicas\n",
    "    # porque se o usr_target escutou uma musica 0 tempo e os parecidos com ele escutaram 10000000 tempo (por exemplo),\n",
    "    # essa recomendacao tem que estar lá no topo.\n",
    "    retorna recomendacoes\n",
    "    #na funcao get_recomendations, eu fatiarei o vetor recomendacoes no numero n de recomendacoes que for passado passado como parametro"
   ]
  },
  {
   "cell_type": "code",
   "execution_count": null,
   "metadata": {},
   "outputs": [],
   "source": [
    "def knearest(all_users, user_target, k):\n",
    "    distances = {}\n",
    "    length = len(user_target[1])  # length = quantas musicas tem na matriz do usuario (top_hits)\n",
    "\n",
    "    for i in range(len(all_users)):\n",
    "        dist = distance(user_target, all_users[i], length)\n",
    "        distances[i] = dist\n",
    "\n",
    "    # sortedDistances tem, de forma ordenada crescente, os usuarios com o gosto mais parecido com o que eu passei. \n",
    "    # na posicao 0 eu tenho o usuario mais parecido com o que eu passei.\n",
    "    sortedDistances = sorted(distances.items(), key=operator.itemgetter(1))\n",
    "\n",
    "    usuariosParecidos = [[]for i in range(k)]\n",
    "\n",
    "    for i in range(k):\n",
    "        usuariosParecidos[i] += sortedDistances[i]\n",
    "    # aqui, em usuariosParecidos, eu tenho o id do usuario mais parecido e a distancia vetorial entre ele e user target\n",
    "\n",
    "    vetComb = musics\n",
    "\n",
    "    for i in range(len(usuariosParecidos)):\n",
    "        usrTemp = users[usuariosParecidos[i][usr_id]]\n",
    "        for ind in range(len(usrTemp[usr_musics])): # quantidade de musicas que tem no top do usrTemp.\n",
    "            vetComb[ind][1] += (usrTemp[1][ind][1]/len(top_musics))  # média dos valores, para uma recomendação mais confiável\n",
    "\n",
    "    recomendacoes = [[]for i in range(len(vetComb))]\n",
    "\n",
    "    for i in range(len(vetComb)):\n",
    "        recomendacoes[i].append(vetComb[i][0])  # recomendacoes[i][0] tem o id da musica\n",
    "        recomendacoes[i].append(vetComb[i][1] - user_target[1][i][1])  # recomendacoes[i][1] tem o valor subtraido do quanto os usuarios parecidos escutaram aquela musica com o quanto o user_target a ouviu\n",
    "\n",
    "    sortedRecomendacoes = sorted(recomendacoes, key=operator.itemgetter(1), reverse=True)\n",
    "    finalRecomendations = []\n",
    "\n",
    "    for i in range(len(sortedRecomendacoes)):\n",
    "        finalRecomendations.append(sortedRecomendacoes[i][0])\n",
    "\n",
    "    return finalRecomendations"
   ]
  },
  {
   "cell_type": "markdown",
   "metadata": {},
   "source": [
    "## getRecommendations\n",
    "A função getRecommendations tem a responsabilidade de definir os usuários target a partir da tabela \"target.csv\" e passá-los, um a um, para a função knearest, e por último, inserir cada resposta de recomendação em um dict que será retornado.\n",
    "Na minha aplicação, a obtenção dos usuários da tabela target.csv não é feita de maneira automática, de forma que, para pegar recomendações para um usuário, deve-se indicar o seu id manualmente no código."
   ]
  },
  {
   "cell_type": "code",
   "execution_count": null,
   "metadata": {},
   "outputs": [],
   "source": [
    "def getRecommendations(n):\n",
    "    user_target_id = 0\n",
    "    kval = 5\n",
    "    user_target = users[user_target_id]\n",
    "    recommended = knearest(users, user_target, kval)[:n]\n",
    "\n",
    "    recommendations = {\n",
    "        \"user_id\": user_target[0],\n",
    "        \"recommendations\": recommended\n",
    "    }\n",
    "\n",
    "    return recommendations"
   ]
  },
  {
   "cell_type": "code",
   "execution_count": null,
   "metadata": {},
   "outputs": [],
   "source": [
    "getRecommendations(5)"
   ]
  },
  {
   "cell_type": "markdown",
   "metadata": {},
   "source": [
    "## Análise dos dados"
   ]
  },
  {
   "cell_type": "markdown",
   "metadata": {},
   "source": [
    "Merge dos dados das músicas ouvidas com os dados de gênero e Estado, para que o dataFrame tenha informações do gênero das músicas e dos Estados onde foram ouvidas."
   ]
  },
  {
   "cell_type": "code",
   "execution_count": 27,
   "metadata": {},
   "outputs": [
    {
     "data": {
      "text/html": [
       "<div>\n",
       "<style scoped>\n",
       "    .dataframe tbody tr th:only-of-type {\n",
       "        vertical-align: middle;\n",
       "    }\n",
       "\n",
       "    .dataframe tbody tr th {\n",
       "        vertical-align: top;\n",
       "    }\n",
       "\n",
       "    .dataframe thead th {\n",
       "        text-align: right;\n",
       "    }\n",
       "</style>\n",
       "<table border=\"1\" class=\"dataframe\">\n",
       "  <thead>\n",
       "    <tr style=\"text-align: right;\">\n",
       "      <th></th>\n",
       "      <th>user_id</th>\n",
       "      <th>music_id</th>\n",
       "      <th>genre_id</th>\n",
       "      <th>state_id</th>\n",
       "      <th>value</th>\n",
       "      <th>genre</th>\n",
       "      <th>state</th>\n",
       "    </tr>\n",
       "  </thead>\n",
       "  <tbody>\n",
       "    <tr>\n",
       "      <th>0</th>\n",
       "      <td>0</td>\n",
       "      <td>105301</td>\n",
       "      <td>138</td>\n",
       "      <td>17</td>\n",
       "      <td>69</td>\n",
       "      <td>gospel</td>\n",
       "      <td>PE</td>\n",
       "    </tr>\n",
       "    <tr>\n",
       "      <th>1</th>\n",
       "      <td>0</td>\n",
       "      <td>159953</td>\n",
       "      <td>138</td>\n",
       "      <td>17</td>\n",
       "      <td>38</td>\n",
       "      <td>gospel</td>\n",
       "      <td>PE</td>\n",
       "    </tr>\n",
       "    <tr>\n",
       "      <th>2</th>\n",
       "      <td>0</td>\n",
       "      <td>400886</td>\n",
       "      <td>138</td>\n",
       "      <td>17</td>\n",
       "      <td>55</td>\n",
       "      <td>gospel</td>\n",
       "      <td>PE</td>\n",
       "    </tr>\n",
       "    <tr>\n",
       "      <th>3</th>\n",
       "      <td>0</td>\n",
       "      <td>591913</td>\n",
       "      <td>138</td>\n",
       "      <td>17</td>\n",
       "      <td>101</td>\n",
       "      <td>gospel</td>\n",
       "      <td>PE</td>\n",
       "    </tr>\n",
       "    <tr>\n",
       "      <th>4</th>\n",
       "      <td>0</td>\n",
       "      <td>1210022</td>\n",
       "      <td>138</td>\n",
       "      <td>17</td>\n",
       "      <td>51</td>\n",
       "      <td>gospel</td>\n",
       "      <td>PE</td>\n",
       "    </tr>\n",
       "  </tbody>\n",
       "</table>\n",
       "</div>"
      ],
      "text/plain": [
       "   user_id  music_id  genre_id  state_id  value   genre state\n",
       "0        0    105301       138        17     69  gospel    PE\n",
       "1        0    159953       138        17     38  gospel    PE\n",
       "2        0    400886       138        17     55  gospel    PE\n",
       "3        0    591913       138        17    101  gospel    PE\n",
       "4        0   1210022       138        17     51  gospel    PE"
      ]
     },
     "execution_count": 27,
     "metadata": {},
     "output_type": "execute_result"
    }
   ],
   "source": [
    "mrg = hits.merge(genre, on='genre_id')\n",
    "df = mrg.merge(state, on='state_id')\n",
    "df.head()"
   ]
  },
  {
   "cell_type": "markdown",
   "metadata": {},
   "source": [
    "Gêneros mais ouvidos"
   ]
  },
  {
   "cell_type": "code",
   "execution_count": null,
   "metadata": {},
   "outputs": [],
   "source": [
    "df.groupby(by=\"genre\")[\"user_id\"].count().sort_values(ascending=False)"
   ]
  },
  {
   "cell_type": "markdown",
   "metadata": {},
   "source": [
    "Estados que mais ouvem músicas:"
   ]
  },
  {
   "cell_type": "code",
   "execution_count": 46,
   "metadata": {
    "scrolled": true
   },
   "outputs": [
    {
     "data": {
      "text/plain": [
       "state\n",
       "SP    194557\n",
       "BA     96683\n",
       "nd     93995\n",
       "CE     78483\n",
       "MG     69139\n",
       "PE     64891\n",
       "RJ     47888\n",
       "DF     38689\n",
       "PB     33621\n",
       "GO     27028\n",
       "RN     26283\n",
       "PR     25819\n",
       "AL     21179\n",
       "PA     19844\n",
       "MA     18099\n",
       "RS     17459\n",
       "SC     15213\n",
       "ES     12732\n",
       "SE     12512\n",
       "AM     12327\n",
       "MT     12309\n",
       "PI     11552\n",
       "TO     11384\n",
       "RO      8279\n",
       "MS      4901\n",
       "AC      1856\n",
       "AP      1196\n",
       "RR         8\n",
       "Name: state_id, dtype: int64"
      ]
     },
     "execution_count": 46,
     "metadata": {},
     "output_type": "execute_result"
    }
   ],
   "source": [
    "df.groupby(by=\"state\")[\"state_id\"].count().sort_values(ascending=False)b"
   ]
  },
  {
   "cell_type": "code",
   "execution_count": 47,
   "metadata": {},
   "outputs": [
    {
     "data": {
      "text/plain": [
       "<Figure size 3240x2160 with 0 Axes>"
      ]
     },
     "metadata": {},
     "output_type": "display_data"
    },
    {
     "data": {
      "image/png": "[encoded data removed]",
      "text/plain": [
       "<Figure size 432x288 with 1 Axes>"
      ]
     },
     "metadata": {
      "needs_background": "light"
     },
     "output_type": "display_data"
    }
   ],
   "source": [
    "figure( figsize=(18, 12), dpi=180, facecolor='w', edgecolor='k')\n",
    "\n",
    "plt.figure()\n",
    "df.groupby(by=\"state\")[\"user_id\"].count().sort_values(ascending=False).plot(kind='bar')\n",
    "plt.show()"
   ]
  },
  {
   "cell_type": "markdown",
   "metadata": {},
   "source": [
    "Tempo total ouvido por cada usuário"
   ]
  },
  {
   "cell_type": "code",
   "execution_count": null,
   "metadata": {},
   "outputs": [],
   "source": [
    "df.groupby(by=\"user_id\")[\"value\"].sum().sort_values(ascending=False)"
   ]
  },
  {
   "cell_type": "markdown",
   "metadata": {},
   "source": [
    "Média de tempo ouvida pelos usuários em horas"
   ]
  },
  {
   "cell_type": "code",
   "execution_count": null,
   "metadata": {},
   "outputs": [],
   "source": [
    "df.groupby(by=\"user_id\")[\"value\"].sum().mean()/3600"
   ]
  },
  {
   "cell_type": "markdown",
   "metadata": {},
   "source": [
    "### Resultados obtidos para diferentes valores de k\n",
    "Executei o algoritmo, pegando uma única recomendação de música para cada usuário, num grupo com 100 usuários (com id's de 1 a 100). Repeti esta ação com valores de k variando de 1 a 5, e estes foram os resultados obtidos:"
   ]
  },
  {
   "cell_type": "markdown",
   "metadata": {},
   "source": [
    "#### k=1:\n",
    "{1: [4649906], 2: [4649906], 3: [3598892], 4: [5323370], 5: [5323370], 6: [4365419], 7: [5208492], 8: [5208492], 9: [5208492], 10: [5208492], 11: [5208492], 12: [5208492], 13: [5208492], 14: [5208492], 15: [5208492], 16: [5208492], 17: [5208492], 18: [5208492], 19: [5208492], 20: [5208492], 21: [5208492], 22: [5208492], 23: [5208492], 24: [5208492], 25: [5208492], 26: [5323370], 27: [5208492], 28: [5208492], 29: [5208492], 30: [5208492], 31: [5208492], 32: [5208492], 33: [5208492], 34: [5208492], 35: [5208492], 36: [5208492], 37: [5208492], 38: [5208492], 39: [5323370], 40: [5208492], 41: [5406631], 42: [5208492], 43: [5208492], 44: [5208492], 45: [5208492], 46: [5208492], 47: [5208492], 48: [5208492], 49: [5208492], 50: [5208492], 51: [5208492], 52: [5208492], 53: [5208492], 54: [5208492], 55: [5208492], 56: [5208492], 57: [5208492], 58: [5208492], 59: [5208492], 60: [5208492], 61: [5208492], 62: [5208492], 63: [5208492], 64: [5323370], 65: [5208492], 66: [5406631], 67: [5208492], 68: [5208492], 69: [5208492], 70: [5208492], 71: [5208492], 72: [5208492], 73: [5208492], 74: [5208492], 75: [5070006], 76: [5208492], 77: [5208492], 78: [5208492], 79: [5208492], 80: [5208492], 81: [5208492], 82: [5208492], 83: [5208492], 84: [5208492], 85: [5208492], 86: [5208492], 87: [5208492], 88: [5208492], 89: [5208492], 90: [5208492], 91: [5208492], 92: [5208492], 93: [5208492], 94: [5406631], 95: [5208492], 96: [5208492], 97: [5208492], 98: [5208492], 99: [5208492], 100: [5208492]}"
   ]
  },
  {
   "cell_type": "markdown",
   "metadata": {},
   "source": [
    "#### k=2:\n",
    "{1: [4649906], 2: [3598883], 3: [3598892], 4: [5323370], 5: [5323370], 6: [4365419], 7: [5208492], 8: [5208492], 9: [5208492], 10: [5208492], 11: [5208492], 12: [5208492], 13: [5208492], 14: [5208492], 15: [5208492], 16: [5208492], 17: [5208492], 18: [5208492], 19: [5208492], 20: [5208492], 21: [5208492], 22: [5208492], 23: [5208492], 24: [5208492], 25: [5208492], 26: [4863364], 27: [5208492], 28: [5208492], 29: [5208492], 30: [5208492], 31: [5208492], 32: [5208492], 33: [5208492], 34: [5208492], 35: [5208492], 36: [5208492], 37: [5208492], 38: [5208492], 39: [4220034], 40: [5208492], 41: [5406631], 42: [5208492], 43: [5208492], 44: [5208492], 45: [5208492], 46: [5208492], 47: [5208492], 48: [5208492], 49: [5208492], 50: [5208492], 51: [5208492], 52: [5208492], 53: [5208492], 54: [5208492], 55: [5208492], 56: [5208492], 57: [5208492], 58: [5208492], 59: [5208492], 60: [5208492], 61: [5208492], 62: [5208492], 63: [5208492], 64: [4220034], 65: [5208492], 66: [5406631], 67: [5208492], 68: [5208492], 69: [5208492], 70: [5208492], 71: [5208492], 72: [5208492], 73: [5208492], 74: [5208492], 75: [5070006], 76: [5208492], 77: [5208492], 78: [5208492], 79: [5208492], 80: [5208492], 81: [5208492], 82: [5208492], 83: [5208492], 84: [5208492], 85: [5208492], 86: [5208492], 87: [5208492], 88: [5208492], 89: [5208492], 90: [5208492], 91: [5208492], 92: [5208492], 93: [5208492], 94: [5406631], 95: [5208492], 96: [5208492], 97: [5208492], 98: [5208492], 99: [5208492], 100: [5208492]}"
   ]
  },
  {
   "cell_type": "markdown",
   "metadata": {},
   "source": [
    "#### k=3:\n",
    "{1: [4649906], 2: [3598883], 3: [3598892], 4: [5323370], 5: [5323370], 6: [3109269], 7: [5208492], 8: [5208492], 9: [5208492], 10: [5208492], 11: [5208492], 12: [5208492], 13: [5208492], 14: [5208492], 15: [5208492], 16: [5208492], 17: [5208492], 18: [5208492], 19: [5208492], 20: [5208492], 21: [5208492], 22: [5208492], 23: [5208492], 24: [5208492], 25: [5208492], 26: [4863364], 27: [5208492], 28: [5208492], 29: [5208492], 30: [5208492], 31: [5208492], 32: [5208492], 33: [5208492], 34: [5208492], 35: [5208492], 36: [5208492], 37: [5208492], 38: [5208492], 39: [4220034], 40: [5208492], 41: [5406631], 42: [5208492], 43: [5208492], 44: [5208492], 45: [5208492], 46: [5208492], 47: [5208492], 48: [5208492], 49: [5208492], 50: [5208492], 51: [5208492], 52: [5208492], 53: [5208492], 54: [5208492], 55: [5208492], 56: [5208492], 57: [5208492], 58: [5208492], 59: [5208492], 60: [5208492], 61: [5208492], 62: [5208492], 63: [5208492], 64: [4863364], 65: [5208492], 66: [4863364], 67: [5208492], 68: [5208492], 69: [5208492], 70: [5208492], 71: [5208492], 72: [5208492], 73: [5208492], 74: [5208492], 75: [5070006], 76: [5208492], 77: [5208492], 78: [5208492], 79: [5208492], 80: [5208492], 81: [5208492], 82: [5208492], 83: [5208492], 84: [5208492], 85: [5208492], 86: [5208492], 87: [5208492], 88: [5208492], 89: [5208492], 90: [5208492], 91: [5208492], 92: [5208492], 93: [5208492], 94: [5406631], 95: [5208492], 96: [5208492], 97: [5208492], 98: [5208492], 99: [5208492], 100: [5208492]}"
   ]
  },
  {
   "cell_type": "markdown",
   "metadata": {},
   "source": [
    "#### k=4:\n",
    "{1: [4649906], 2: [3598883], 3: [3598892], 4: [5323370], 5: [5323370], 6: [3109269], 7: [5208492], 8: [5208492], 9: [5208492], 10: [5208492], 11: [5208492], 12: [5208492], 13: [5208492], 14: [5208492], 15: [5208492], 16: [5208492], 17: [5208492], 18: [5208492], 19: [5208492], 20: [5208492], 21: [5208492], 22: [5208492], 23: [5208492], 24: [5208492], 25: [5208492], 26: [4863364], 27: [5208492], 28: [5208492], 29: [5208492], 30: [5208492], 31: [5208492], 32: [5208492], 33: [5208492], 34: [5208492], 35: [5208492], 36: [5208492], 37: [5208492], 38: [5208492], 39: [4220034], 40: [5208492], 41: [5406631], 42: [5208492], 43: [5208492], 44: [5208492], 45: [5208492], 46: [5208492], 47: [5208492], 48: [5208492], 49: [5208492], 50: [5208492], 51: [5208492], 52: [5208492], 53: [5208492], 54: [5208492], 55: [5208492], 56: [5208492], 57: [5208492], 58: [5208492], 59: [5208492], 60: [5208492], 61: [5208492], 62: [5208492], 63: [5208492], 64: [5323370], 65: [5208492], 66: [4027166], 67: [5208492], 68: [5208492], 69: [5208492], 70: [5208492], 71: [5208492], 72: [5208492], 73: [5208492], 74: [5208492], 75: [5070006], 76: [5208492], 77: [5208492], 78: [5208492], 79: [5208492], 80: [5208492], 81: [5208492], 82: [5208492], 83: [5208492], 84: [5208492], 85: [5208492], 86: [5208492], 87: [5208492], 88: [5208492], 89: [5208492], 90: [5208492], 91: [5208492], 92: [5208492], 93: [5208492], 94: [5406631], 95: [5208492], 96: [5208492], 97: [5208492], 98: [5208492], 99: [5208492], 100: [5208492]}"
   ]
  },
  {
   "cell_type": "markdown",
   "metadata": {},
   "source": [
    "#### k=5:\n",
    "{1: [4649906], 2: [3598883], 3: [3598892], 4: [5323370], 5: [5323370], 6: [3109269], 7: [5208492], 8: [5208492], 9: [5208492], 10: [5208492], 11: [5208492], 12: [5208492], 13: [5208492], 14: [5208492], 15: [5208492], 16: [5208492], 17: [5208492], 18: [5208492], 19: [5208492], 20: [5208492], 21: [5208492], 22: [5208492], 23: [5208492], 24: [5208492], 25: [5208492], 26: [4863364], 27: [5208492], 28: [5208492], 29: [5208492], 30: [5208492], 31: [5208492], 32: [5208492], 33: [5208492], 34: [5208492], 35: [5208492], 36: [5208492], 37: [5208492], 38: [5208492], 39: [4220034], 40: [5208492], 41: [5406631], 42: [5208492], 43: [5208492], 44: [5208492], 45: [5208492], 46: [5208492], 47: [5208492], 48: [5208492], 49: [5208492], 50: [5208492], 51: [5208492], 52: [5208492], 53: [5208492], 54: [5208492], 55: [5208492], 56: [5208492], 57: [5208492], 58: [5208492], 59: [5208492], 60: [5208492], 61: [5208492], 62: [5208492], 63: [5208492], 64: [5323370], 65: [5208492], 66: [4027166], 67: [5208492], 68: [5208492], 69: [5208492], 70: [5208492], 71: [5208492], 72: [5208492], 73: [5208492], 74: [5208492], 75: [5070006], 76: [5208492], 77: [5208492], 78: [5208492], 79: [5208492], 80: [5208492], 81: [5208492], 82: [5208492], 83: [5208492], 84: [5208492], 85: [5208492], 86: [5208492], 87: [5208492], 88: [5208492], 89: [5208492], 90: [5208492], 91: [5208492], 92: [5208492], 93: [5208492], 94: [4365419], 95: [5208492], 96: [5208492], 97: [5208492], 98: [5208492], 99: [5208492], 100: [5208492]}"
   ]
  }
 ],
 "metadata": {
  "kernelspec": {
   "display_name": "Python 3",
   "language": "python",
   "name": "python3"
  },
  "language_info": {
   "codemirror_mode": {
    "name": "ipython",
    "version": 3
   },
   "file_extension": ".py",
   "mimetype": "text/x-python",
   "name": "python",
   "nbconvert_exporter": "python",
   "pygments_lexer": "ipython3",
   "version": "3.7.3"
  }
 },
 "nbformat": 4,
 "nbformat_minor": 2
}
