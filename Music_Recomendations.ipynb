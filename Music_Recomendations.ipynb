{
 "cells": [
  {
   "cell_type": "markdown",
   "metadata": {},
   "source": [
    "## Importação das Bibliotecas necessárias\n",
    "A biblioteca copy foi usada para realizar uma cópia de valores ao longo do algoritmo de pré-processamento"
   ]
  },
  {
   "cell_type": "code",
   "execution_count": null,
   "metadata": {},
   "outputs": [],
   "source": [
    "import pandas as pd\n",
    "import numpy as np\n",
    "import operator\n",
    "from copy import deepcopy"
   ]
  },
  {
   "cell_type": "markdown",
   "metadata": {},
   "source": [
    "## Leitura dos Arquivos"
   ]
  },
  {
   "cell_type": "code",
   "execution_count": null,
   "metadata": {},
   "outputs": [],
   "source": [
    "music_data = pd.read_csv(\"music_data.csv\")\n",
    "hits = pd.read_csv(\"hits.csv\")\n",
    "target = pd.read_csv(\"target.csv\")"
   ]
  },
  {
   "cell_type": "markdown",
   "metadata": {},
   "source": [
    "## Inicialização das variáveis de controle\n",
    "Estas variáveis serão usadas ao longo do código para facilitar a legibilidade"
   ]
  },
  {
   "cell_type": "code",
   "execution_count": null,
   "metadata": {},
   "outputs": [],
   "source": [
    "music_id = 0\n",
    "music = 1\n",
    "music_value = 4\n",
    "usr_id = 0\n",
    "usr_musics = 1\n",
    "topHits = 100  # decidi por utilizar 100 top hits para a recomendação\n",
    "numUsers = len(hits.groupby(['user_id']).count())-1"
   ]
  },
  {
   "cell_type": "markdown",
   "metadata": {},
   "source": [
    "# Algoritmo de Pré-Processamento"
   ]
  },
  {
   "cell_type": "markdown",
   "metadata": {},
   "source": [
    "É necessário um algoritmo de pré processamento para deixar os dados do jeito correto estabelecido para o funcionamento do algoritmo.\n",
    "Decidi usar a seguinte abordagem: Terei uma matriz com todos os usuários. Cada usuário será uma linha da matriz. Esta matriz (chamada users) tem duas colunas: a primeira para o id do usuário naquela linha, e a segunda que é outra matriz (chamada listaMusicas). Esta contém, na primeira coluna, os 100 hits mais tocados, e na segunda coluna, a quantidade que aquele determinado usuário ouviu àquela música.\n",
    "O algoritmo de pré-processamento não se preocupa com o caso de usuários novos que ainda não ouviram a nenhuma música, pois o objetivo era recomendar apenas para usuários target já pré-definidos que já haviam ouvido alguma música.\n"
   ]
  },
  {
   "cell_type": "markdown",
   "metadata": {},
   "source": [
    "## Inicialização das matrizes usadas pelo algoritmo de pré-processamento"
   ]
  },
  {
   "cell_type": "code",
   "execution_count": null,
   "metadata": {},
   "outputs": [],
   "source": [
    "musics = [[]for i in range(topHits)]\n",
    "# modelo do vetor user = [0,[[105301,69],[51,0],...]]\n",
    "users = [[]for i in range(numUsers)]\n",
    "\n",
    "# pegando as top 100 musicas, baseado em numero de plays\n",
    "music_data.sort_values(['plays'], ascending=False, inplace=True)\n",
    "top_musics = np.array(music_data['music_id'][:topHits])\n",
    "\n",
    "# fazendo o vetor base de musicas com todos os valores 0\n",
    "for i in range(len(top_musics)):\n",
    "    musics[i].append(top_musics[i])\n",
    "    musics[i].append(0)"
   ]
  },
  {
   "cell_type": "markdown",
   "metadata": {},
   "source": [
    "## Atribuição dos valores ouvidos de cada top_hit por cada usuário\n",
    "A matriz de cada usuário possui vários valores 0, pois dificilmente um usuário terá escutado todas as músicas do top 100. Como o vetor base deixa como padrão o valor 0 para todas as músicas, a parte abaixo é encarregada de sobrescrever estes valores 0 nas músicas que o usuário já ouviu, com o valor correto, e fazer isto para todos os usuários da base de dados."
   ]
  },
  {
   "cell_type": "code",
   "execution_count": null,
   "metadata": {},
   "outputs": [],
   "source": [
    "linha = 0\n",
    "for j in range(numUsers):\n",
    "    users[j] = [hits.iloc[linha, usr_id], musics]  # users[j] = [user_id, vetor base com os top 100 hits]\n",
    "    if linha < len(hits):  # if usado para garantir que na última iteração não ocorra um index out of bounds\n",
    "        listaMusicas = deepcopy(musics)  # deepcopy para que apenas os valores de musics sejam transferidos para listaMusicas. Particularidade da linguagem Python.\n",
    "        while hits.iloc[linha, usr_id] == j:  # hits tem várias linhas de informação para cada usuário. Enquanto eu estiver no mesmo usuário faça:\n",
    "            musica = hits.iloc[linha, music]\n",
    "            for i in range(len(top_musics)):\n",
    "                if users[j][usr_musics][i][music_id] == musica:  # se a musica atual existir no vetor do usuario\n",
    "                    listaMusicas[i][music] = hits.iloc[linha][music_value]\n",
    "            linha += 1\n",
    "        users[j] = [hits.iloc[linha, usr_id], listaMusicas]"
   ]
  }
 ],
 "metadata": {
  "kernelspec": {
   "display_name": "Python 3",
   "language": "python",
   "name": "python3"
  },
  "language_info": {
   "codemirror_mode": {
    "name": "ipython",
    "version": 3
   },
   "file_extension": ".py",
   "mimetype": "text/x-python",
   "name": "python",
   "nbconvert_exporter": "python",
   "pygments_lexer": "ipython3",
   "version": "3.7.3"
  }
 },
 "nbformat": 4,
 "nbformat_minor": 2
}
