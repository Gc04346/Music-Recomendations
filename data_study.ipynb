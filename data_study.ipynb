{
 "cells": [
  {
   "cell_type": "markdown",
   "metadata": {
    "colab_type": "text",
    "id": "axrSvsfFBN7y"
   },
   "source": [
    "### Importação das bibliotecas necessárias\n"
   ]
  },
  {
   "cell_type": "code",
   "execution_count": 1,
   "metadata": {
    "colab": {},
    "colab_type": "code",
    "id": "uyYvjedWq1nV"
   },
   "outputs": [],
   "source": [
    "import pandas as pd\n",
    "import numpy as np\n",
    "import matplotlib.pyplot as plt\n",
    "from matplotlib.pyplot import figure\n",
    "import seaborn as sns\n",
    "\n"
   ]
  },
  {
   "cell_type": "markdown",
   "metadata": {
    "colab_type": "text",
    "id": "l1fB3ByWBU-a"
   },
   "source": [
    "### Leitura dos arquivos"
   ]
  },
  {
   "cell_type": "code",
   "execution_count": 2,
   "metadata": {
    "colab": {},
    "colab_type": "code",
    "id": "pjWXhEEjr9o8"
   },
   "outputs": [],
   "source": [
    "hits = pd.read_csv('hits.csv')\n",
    "musics = pd.read_csv('music_data.csv')\n",
    "genre = pd.read_csv('genre.csv')\n"
   ]
  },
  {
   "cell_type": "markdown",
   "metadata": {
    "colab_type": "text",
    "id": "VNfKkiiQBpEI"
   },
   "source": [
    "O significado de cada coluna de cada arquivo está na descrição da prova> Indented block\n"
   ]
  },
  {
   "cell_type": "code",
   "execution_count": 3,
   "metadata": {
    "colab": {},
    "colab_type": "code",
    "id": "5JTkbAQrq1nc",
    "outputId": "7cbd3a89-2e4d-4d62-94b5-e678d4a04515"
   },
   "outputs": [
    {
     "data": {
      "text/plain": [
       "Index(['user_id', 'music_id', 'genre_id', 'state_id', 'value'], dtype='object')"
      ]
     },
     "execution_count": 3,
     "metadata": {},
     "output_type": "execute_result"
    }
   ],
   "source": [
    "hits.columns "
   ]
  },
  {
   "cell_type": "code",
   "execution_count": 4,
   "metadata": {
    "colab": {},
    "colab_type": "code",
    "id": "RHXEOeedq1ni",
    "outputId": "342a975e-95f5-4f86-b454-b9aa02db19b8"
   },
   "outputs": [
    {
     "data": {
      "text/plain": [
       "Index(['music_id', 'id_artist', 'duration', 'plays', 'downloads'], dtype='object')"
      ]
     },
     "execution_count": 4,
     "metadata": {},
     "output_type": "execute_result"
    }
   ],
   "source": [
    "musics.columns"
   ]
  },
  {
   "cell_type": "code",
   "execution_count": 5,
   "metadata": {
    "colab": {},
    "colab_type": "code",
    "id": "P0xDwxaOq1nm",
    "outputId": "cb0b0743-ee01-4d6b-cb11-3f551ffde4ef"
   },
   "outputs": [
    {
     "data": {
      "text/plain": [
       "Index(['genre_id', 'genre'], dtype='object')"
      ]
     },
     "execution_count": 5,
     "metadata": {},
     "output_type": "execute_result"
    }
   ],
   "source": [
    "genre.columns"
   ]
  },
  {
   "cell_type": "code",
   "execution_count": 6,
   "metadata": {
    "colab": {},
    "colab_type": "code",
    "id": "2Q0Acr9uq1np",
    "outputId": "da93358c-b57c-4bde-b2e4-90063e55dbce"
   },
   "outputs": [
    {
     "data": {
      "text/html": [
       "<div>\n",
       "<style scoped>\n",
       "    .dataframe tbody tr th:only-of-type {\n",
       "        vertical-align: middle;\n",
       "    }\n",
       "\n",
       "    .dataframe tbody tr th {\n",
       "        vertical-align: top;\n",
       "    }\n",
       "\n",
       "    .dataframe thead th {\n",
       "        text-align: right;\n",
       "    }\n",
       "</style>\n",
       "<table border=\"1\" class=\"dataframe\">\n",
       "  <thead>\n",
       "    <tr style=\"text-align: right;\">\n",
       "      <th></th>\n",
       "      <th>user_id</th>\n",
       "      <th>music_id</th>\n",
       "      <th>genre_id</th>\n",
       "      <th>state_id</th>\n",
       "      <th>value</th>\n",
       "    </tr>\n",
       "  </thead>\n",
       "  <tbody>\n",
       "    <tr>\n",
       "      <th>0</th>\n",
       "      <td>0</td>\n",
       "      <td>105301</td>\n",
       "      <td>138</td>\n",
       "      <td>17</td>\n",
       "      <td>69.0</td>\n",
       "    </tr>\n",
       "    <tr>\n",
       "      <th>1</th>\n",
       "      <td>0</td>\n",
       "      <td>159953</td>\n",
       "      <td>138</td>\n",
       "      <td>17</td>\n",
       "      <td>38.0</td>\n",
       "    </tr>\n",
       "    <tr>\n",
       "      <th>2</th>\n",
       "      <td>0</td>\n",
       "      <td>400886</td>\n",
       "      <td>138</td>\n",
       "      <td>17</td>\n",
       "      <td>55.0</td>\n",
       "    </tr>\n",
       "    <tr>\n",
       "      <th>3</th>\n",
       "      <td>0</td>\n",
       "      <td>591913</td>\n",
       "      <td>138</td>\n",
       "      <td>17</td>\n",
       "      <td>101.0</td>\n",
       "    </tr>\n",
       "    <tr>\n",
       "      <th>4</th>\n",
       "      <td>0</td>\n",
       "      <td>617394</td>\n",
       "      <td>25</td>\n",
       "      <td>17</td>\n",
       "      <td>51.0</td>\n",
       "    </tr>\n",
       "  </tbody>\n",
       "</table>\n",
       "</div>"
      ],
      "text/plain": [
       "   user_id  music_id  genre_id  state_id  value\n",
       "0        0    105301       138        17   69.0\n",
       "1        0    159953       138        17   38.0\n",
       "2        0    400886       138        17   55.0\n",
       "3        0    591913       138        17  101.0\n",
       "4        0    617394        25        17   51.0"
      ]
     },
     "execution_count": 6,
     "metadata": {},
     "output_type": "execute_result"
    }
   ],
   "source": [
    "hits.head(5)"
   ]
  },
  {
   "cell_type": "markdown",
   "metadata": {
    "colab_type": "text",
    "id": "QJGgO0d6Bs7x"
   },
   "source": [
    "Merge dos dados de músicas ouvidas com os dados de gênero, assim o dataframe `df` passa a ter a informação do gênero da música"
   ]
  },
  {
   "cell_type": "code",
   "execution_count": 7,
   "metadata": {
    "colab": {},
    "colab_type": "code",
    "id": "4SwamQzlq1nt"
   },
   "outputs": [],
   "source": [
    "df = hits.merge(genre, on='genre_id')"
   ]
  },
  {
   "cell_type": "code",
   "execution_count": 8,
   "metadata": {
    "colab": {},
    "colab_type": "code",
    "id": "OA20NCzjq1nw",
    "outputId": "311ea22d-282e-4781-c026-c69f00191bf6"
   },
   "outputs": [
    {
     "data": {
      "text/html": [
       "<div>\n",
       "<style scoped>\n",
       "    .dataframe tbody tr th:only-of-type {\n",
       "        vertical-align: middle;\n",
       "    }\n",
       "\n",
       "    .dataframe tbody tr th {\n",
       "        vertical-align: top;\n",
       "    }\n",
       "\n",
       "    .dataframe thead th {\n",
       "        text-align: right;\n",
       "    }\n",
       "</style>\n",
       "<table border=\"1\" class=\"dataframe\">\n",
       "  <thead>\n",
       "    <tr style=\"text-align: right;\">\n",
       "      <th></th>\n",
       "      <th>user_id</th>\n",
       "      <th>music_id</th>\n",
       "      <th>genre_id</th>\n",
       "      <th>state_id</th>\n",
       "      <th>value</th>\n",
       "      <th>genre</th>\n",
       "    </tr>\n",
       "  </thead>\n",
       "  <tbody>\n",
       "    <tr>\n",
       "      <th>0</th>\n",
       "      <td>0</td>\n",
       "      <td>105301</td>\n",
       "      <td>138</td>\n",
       "      <td>17</td>\n",
       "      <td>69.0</td>\n",
       "      <td>gospel</td>\n",
       "    </tr>\n",
       "    <tr>\n",
       "      <th>1</th>\n",
       "      <td>0</td>\n",
       "      <td>159953</td>\n",
       "      <td>138</td>\n",
       "      <td>17</td>\n",
       "      <td>38.0</td>\n",
       "      <td>gospel</td>\n",
       "    </tr>\n",
       "    <tr>\n",
       "      <th>2</th>\n",
       "      <td>0</td>\n",
       "      <td>400886</td>\n",
       "      <td>138</td>\n",
       "      <td>17</td>\n",
       "      <td>55.0</td>\n",
       "      <td>gospel</td>\n",
       "    </tr>\n",
       "    <tr>\n",
       "      <th>3</th>\n",
       "      <td>0</td>\n",
       "      <td>591913</td>\n",
       "      <td>138</td>\n",
       "      <td>17</td>\n",
       "      <td>101.0</td>\n",
       "      <td>gospel</td>\n",
       "    </tr>\n",
       "    <tr>\n",
       "      <th>4</th>\n",
       "      <td>0</td>\n",
       "      <td>1210022</td>\n",
       "      <td>138</td>\n",
       "      <td>17</td>\n",
       "      <td>51.0</td>\n",
       "      <td>gospel</td>\n",
       "    </tr>\n",
       "  </tbody>\n",
       "</table>\n",
       "</div>"
      ],
      "text/plain": [
       "   user_id  music_id  genre_id  state_id  value   genre\n",
       "0        0    105301       138        17   69.0  gospel\n",
       "1        0    159953       138        17   38.0  gospel\n",
       "2        0    400886       138        17   55.0  gospel\n",
       "3        0    591913       138        17  101.0  gospel\n",
       "4        0   1210022       138        17   51.0  gospel"
      ]
     },
     "execution_count": 8,
     "metadata": {},
     "output_type": "execute_result"
    }
   ],
   "source": [
    "df.head()"
   ]
  },
  {
   "cell_type": "markdown",
   "metadata": {},
   "source": [
    "Agrupamento a partir do genero, contantdo o numero de vezes que aquele genero foi escutado"
   ]
  },
  {
   "cell_type": "code",
   "execution_count": 9,
   "metadata": {
    "colab": {},
    "colab_type": "code",
    "id": "iBUTJZm3q1nz",
    "outputId": "b3015f63-f466-41f0-e609-54a0874f3590"
   },
   "outputs": [
    {
     "data": {
      "text/plain": [
       "genre\n",
       "forro                      274966\n",
       "sertanejo                  221362\n",
       "hip-hop-rap                 89071\n",
       "funk                        82820\n",
       "brega-funk                  52621\n",
       "arrocha                     50807\n",
       "gospel                      48690\n",
       "brega                       36594\n",
       "romantico                   31209\n",
       "axe                         14977\n",
       "reggae                      12200\n",
       "pagode                       8595\n",
       "samba                        6713\n",
       "pop                          6163\n",
       "regional                     6018\n",
       "catolica                     4266\n",
       "eletronica                   4036\n",
       "mpb                          3476\n",
       "bregadeira                   3461\n",
       "rock                         3344\n",
       "jingles-spots                3085\n",
       "swingueira                   1821\n",
       "pop-rock                     1612\n",
       "indie                        1320\n",
       "reggaeton                     865\n",
       "country                       814\n",
       "world-music                   733\n",
       "tecnobrega                    603\n",
       "house                         597\n",
       "infantil                      556\n",
       "                            ...  \n",
       "folk                          496\n",
       "blues                         468\n",
       "instrumental                  266\n",
       "black-music                   247\n",
       "trance                        195\n",
       "punk-rock                     142\n",
       "soul                          136\n",
       "locutores                     132\n",
       "heavy-metal                    97\n",
       "gotico                         96\n",
       "hardcore                       67\n",
       "instrumental-brasileiro        64\n",
       "experimental                   63\n",
       "choro                          57\n",
       "samba-rock                     46\n",
       "hard-rock                      45\n",
       "death-metal                    42\n",
       "bossa-nova                     42\n",
       "surf-music                     41\n",
       "rock-progressivo               38\n",
       "grunge                         29\n",
       "guitar                         24\n",
       "jazz                           20\n",
       "erudito                        19\n",
       "new-metal                      19\n",
       "metal-melodico                 17\n",
       "thrash-metal                   16\n",
       "emocore                        15\n",
       "industrial                     10\n",
       "new-age                         5\n",
       "Name: user_id, Length: 63, dtype: int64"
      ]
     },
     "execution_count": 9,
     "metadata": {},
     "output_type": "execute_result"
    }
   ],
   "source": [
    "df.groupby(by=\"genre\")[\"user_id\"].count().sort_values(ascending=False)"
   ]
  },
  {
   "cell_type": "markdown",
   "metadata": {},
   "source": [
    "Agrupamento por usuários, somando o total de segundos esctudado por aquele usuário"
   ]
  },
  {
   "cell_type": "code",
   "execution_count": 10,
   "metadata": {
    "colab": {},
    "colab_type": "code",
    "id": "pOQx3LnVq1n3",
    "outputId": "92cf66c6-0137-4de5-dc3b-1a1d38d6c50e"
   },
   "outputs": [
    {
     "data": {
      "text/plain": [
       "user_id\n",
       "7590     14237.0\n",
       "3312     14234.0\n",
       "15735    14234.0\n",
       "8589     14232.0\n",
       "5506     14232.0\n",
       "16387    14231.0\n",
       "9778     14230.0\n",
       "3796     14230.0\n",
       "10275    14222.0\n",
       "11088    14216.0\n",
       "9592     14213.0\n",
       "8856     14211.0\n",
       "1456     14210.0\n",
       "4486     14209.0\n",
       "2124     14207.0\n",
       "6363     14206.0\n",
       "14424    14201.0\n",
       "5798     14199.0\n",
       "8339     14198.0\n",
       "10669    14198.0\n",
       "8588     14194.0\n",
       "13743    14193.0\n",
       "7305     14193.0\n",
       "7042     14190.0\n",
       "16318    14189.0\n",
       "11368    14187.0\n",
       "12887    14186.0\n",
       "443      14185.0\n",
       "4817     14185.0\n",
       "2142     14185.0\n",
       "          ...   \n",
       "5945       776.0\n",
       "9989       734.0\n",
       "12798      733.0\n",
       "4409       716.0\n",
       "13677      662.0\n",
       "5372       600.0\n",
       "2166       591.0\n",
       "3585       552.0\n",
       "9083       491.0\n",
       "995        442.0\n",
       "9745       435.0\n",
       "4286       385.0\n",
       "2279       368.0\n",
       "4916       310.0\n",
       "13579      301.0\n",
       "176        283.0\n",
       "9639       250.0\n",
       "13223      239.0\n",
       "478        221.0\n",
       "5026       213.0\n",
       "15021      202.0\n",
       "2674       129.0\n",
       "7471       113.0\n",
       "9180       103.0\n",
       "9589        89.0\n",
       "12928       83.0\n",
       "6570        62.0\n",
       "5965        56.0\n",
       "10483       55.0\n",
       "11642       35.0\n",
       "Name: value, Length: 15145, dtype: float64"
      ]
     },
     "execution_count": 10,
     "metadata": {},
     "output_type": "execute_result"
    }
   ],
   "source": [
    "df.groupby(by=\"user_id\")[\"value\"].sum().sort_values(ascending=False)"
   ]
  },
  {
   "cell_type": "markdown",
   "metadata": {},
   "source": [
    "Media de tempo ouvida pelos usuários em horas"
   ]
  },
  {
   "cell_type": "code",
   "execution_count": 11,
   "metadata": {
    "colab": {},
    "colab_type": "code",
    "id": "hY5Qls1Uq1n7",
    "outputId": "ed39411c-2d00-439f-b788-401e4d0b8602"
   },
   "outputs": [
    {
     "data": {
      "text/plain": [
       "3.334468948314442"
      ]
     },
     "execution_count": 11,
     "metadata": {},
     "output_type": "execute_result"
    }
   ],
   "source": [
    "df.groupby(by=\"user_id\")[\"value\"].sum().mean()/3600"
   ]
  },
  {
   "cell_type": "markdown",
   "metadata": {},
   "source": [
    "Grafico simples que mostra a quantas vezes aquele genero foi escutado pelos usuarios "
   ]
  },
  {
   "cell_type": "code",
   "execution_count": 12,
   "metadata": {
    "colab": {},
    "colab_type": "code",
    "id": "3AODMW9uq1n_",
    "outputId": "ed0c0a3b-06bf-4ac8-cd2c-ccbcc04ac306"
   },
   "outputs": [
    {
     "data": {
      "text/plain": [
       "<Figure size 3240x2160 with 0 Axes>"
      ]
     },
     "metadata": {},
     "output_type": "display_data"
    },
    {
     "data": {
      "image/png": "[encoded data removed]",
      "text/plain": [
       "<Figure size 432x288 with 1 Axes>"
      ]
     },
     "metadata": {
      "needs_background": "light"
     },
     "output_type": "display_data"
    }
   ],
   "source": [
    "figure( figsize=(18, 12), dpi=180, facecolor='w', edgecolor='k')\n",
    "\n",
    "plt.figure()\n",
    "df.groupby(by=\"genre\")[\"user_id\"].count().sort_values(ascending=False).plot(kind='bar')\n",
    "plt.show()"
   ]
  },
  {
   "cell_type": "markdown",
   "metadata": {},
   "source": [
    "tempo que usuario menos ouviu no dataset"
   ]
  },
  {
   "cell_type": "code",
   "execution_count": 13,
   "metadata": {
    "colab": {},
    "colab_type": "code",
    "id": "yiIBRpTTq1oI",
    "outputId": "78e91713-1cba-4ff8-905e-8e6bf46b072e"
   },
   "outputs": [
    {
     "data": {
      "text/plain": [
       "35.0"
      ]
     },
     "execution_count": 13,
     "metadata": {},
     "output_type": "execute_result"
    }
   ],
   "source": [
    "df.groupby(by=\"user_id\")[\"value\"].sum().sort_values(ascending=False).min()"
   ]
  },
  {
   "cell_type": "markdown",
   "metadata": {},
   "source": [
    "tempo do usuario que mais ouviu "
   ]
  },
  {
   "cell_type": "code",
   "execution_count": 14,
   "metadata": {
    "colab": {},
    "colab_type": "code",
    "id": "fOVNhB0jq1oO",
    "outputId": "9a6ec2dd-0d22-4143-fd18-5e22bfc83704"
   },
   "outputs": [
    {
     "data": {
      "text/plain": [
       "14237.0"
      ]
     },
     "execution_count": 14,
     "metadata": {},
     "output_type": "execute_result"
    }
   ],
   "source": [
    "df.groupby(by=\"user_id\")[\"value\"].sum().sort_values(ascending=False).max()"
   ]
  },
  {
   "cell_type": "code",
   "execution_count": 0,
   "metadata": {
    "colab": {},
    "colab_type": "code",
    "id": "TQHOeSvsAOl9"
   },
   "outputs": [],
   "source": []
  }
 ],
 "metadata": {
  "colab": {
   "collapsed_sections": [],
   "name": "data_study.ipynb",
   "provenance": [],
   "version": "0.3.2"
  },
  "kernelspec": {
   "display_name": "Python 3",
   "language": "python",
   "name": "python3"
  },
  "language_info": {
   "codemirror_mode": {
    "name": "ipython",
    "version": 3
   },
   "file_extension": ".py",
   "mimetype": "text/x-python",
   "name": "python",
   "nbconvert_exporter": "python",
   "pygments_lexer": "ipython3",
   "version": "3.7.3"
  }
 },
 "nbformat": 4,
 "nbformat_minor": 1
}
